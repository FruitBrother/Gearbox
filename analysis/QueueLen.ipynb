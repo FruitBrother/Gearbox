{
 "cells": [
  {
   "cell_type": "code",
   "execution_count": 1,
   "metadata": {},
   "outputs": [],
   "source": [
    "import numpy as np\n",
    "import pandas as pd\n",
    "from collections import OrderedDict\n",
    "import matplotlib.pyplot as plt\n",
    "from datetime import timedelta"
   ]
  },
  {
   "cell_type": "code",
   "execution_count": 2,
   "metadata": {},
   "outputs": [],
   "source": [
    "def read_out_tr(dir, file):\n",
    "    col = [\"events\", \"time\", \"from_node\", \"to_node\", \"pkt_type\", \"pkt_size\", \"flags\", \"fid\", \"src_addr\", \"dst_addr\", \"seq_num\", \"pkt_id\"]\n",
    "    df = pd.read_csv(dir+file, sep = ' ', header = None)\n",
    "    df.columns = col\n",
    "    return df\n",
    "\n",
    "# Monitoring queue length by Mengqi\n",
    "def get_src_packets(df, switch):\n",
    "    # get all the tcp pkts (Modified by Peixuan)\n",
    "    df = df.loc[df[\"events\"].isin([\"+\", \"-\"])]\n",
    "    df = df.loc[df[\"pkt_type\"].isin([\"tcp\"])]\n",
    "    df = df.loc[df[\"from_node\"].isin([switch])]\n",
    "    return df\n",
    "\n",
    "def sort_by_time(df):    \n",
    "    df = df.sort_values(by=[\"time\", \"events\"])\n",
    "    return df\n",
    "\n",
    "def plot(df):\n",
    "    plt.figure(figsize=(18,5))\n",
    "    #plt.plot(x,y,\"b--\",linewidth=1)   #在当前绘图对象绘图（X轴，Y轴，蓝色虚线，线宽度）\n",
    "    plt.xlabel(\"Time\")\n",
    "    plt.ylabel(\"Queue Length\")\n",
    "    #plt.xscale('log')\n",
    "    plt.title(\"Real Time Queue Length\")    \n",
    "    #line0 = plt.plot(df[\"time\"][200:500], df[\"queue_len\"][200:500], color='red', markersize = 12)\n",
    "    line0 = plt.plot(df[\"time\"], df[\"queue_len\"], color='red')\n",
    "\n",
    "    plt.legend(loc='best')\n",
    "    plt.show()\n",
    "\n",
    "def cal_queue_len(df_out_tr, switch):\n",
    "    df_queue = get_src_packets(df_out_tr, switch)\n",
    "    df_queue = sort_by_time(df_queue)\n",
    "    pktCount = 0\n",
    "    queue_len = []\n",
    "    for index, row in df_queue.iterrows():\n",
    "        if row[\"events\"] == '-': \n",
    "            pktCount -= 1\n",
    "            queue_len.append(pktCount)\n",
    "        if row[\"events\"] == '+':\n",
    "            pktCount += 1\n",
    "            queue_len.append(pktCount)\n",
    "    df_queue[\"queue_len\"] = queue_len\n",
    "    plot(df_queue)\n",
    "    \n",
    "    #return df_sort\n",
    "    "
   ]
  },
  {
   "cell_type": "code",
   "execution_count": null,
   "metadata": {},
   "outputs": [],
   "source": []
  }
 ],
 "metadata": {
  "kernelspec": {
   "display_name": "gearbox-venv",
   "language": "python",
   "name": "gearbox-venv"
  },
  "language_info": {
   "codemirror_mode": {
    "name": "ipython",
    "version": 3
   },
   "file_extension": ".py",
   "mimetype": "text/x-python",
   "name": "python",
   "nbconvert_exporter": "python",
   "pygments_lexer": "ipython3",
   "version": "3.5.2"
  }
 },
 "nbformat": 4,
 "nbformat_minor": 2
}
