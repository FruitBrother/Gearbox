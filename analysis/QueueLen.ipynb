{
 "cells": [
  {
   "cell_type": "code",
   "execution_count": 1,
   "metadata": {},
   "outputs": [],
   "source": [
    "import numpy as np\n",
    "import pandas as pd\n",
    "from collections import OrderedDict\n",
    "import matplotlib.pyplot as plt\n",
    "from datetime import timedelta"
   ]
  },
  {
   "cell_type": "code",
   "execution_count": 1,
   "metadata": {},
   "outputs": [],
   "source": [
    "def read_out_tr(dir, file):\n",
    "    col = [\"events\", \"time\", \"from_node\", \"to_node\", \"pkt_type\", \"pkt_size\", \"flags\", \"fid\", \"src_addr\", \"dst_addr\", \"seq_num\", \"pkt_id\"]\n",
    "    df = pd.read_csv(dir+file, sep = ' ', header = None)\n",
    "    df.columns = col\n",
    "    return df\n",
    "\n",
    "# Monitoring queue length by Mengqi\n",
    "def get_src_packets(df, switch):\n",
    "    # get all the tcp pkts (Modified by Peixuan)\n",
    "    df = df[[\"time\",\"events\", \"pkt_type\", \"from_node\", \"to_node\"]]\n",
    "    df = df.loc[df[\"events\"].isin([\"+\", \"-\", \"d\"])]\n",
    "    df = df.loc[df[\"pkt_type\"].isin([\"tcp\"])]\n",
    "    df = df.loc[df[\"from_node\"].isin([switch])]\n",
    "    return df\n",
    "\n",
    "def sort_by_time(df):    \n",
    "    df = df.sort_values(by=[\"time\", \"events\"])\n",
    "    return df\n",
    "\n",
    "def plot(df):\n",
    "    plt.figure(figsize=(18,5))\n",
    "    #plt.plot(x,y,\"b--\",linewidth=1)   #在当前绘图对象绘图（X轴，Y轴，蓝色虚线，线宽度）\n",
    "    plt.xlabel(\"Time\")\n",
    "    plt.ylabel(\"Queue Length\")\n",
    "    #plt.xscale('log')\n",
    "    plt.title(\"Real Time Queue Length\")    \n",
    "    #line0 = plt.plot(df[\"time\"][200:500], df[\"queue_len\"][200:500], color='red', markersize = 12)\n",
    "    line0 = plt.plot(df[\"time\"], df[\"queue_len\"])\n",
    "    line1 = plt.plot(df[\"time\"], df[\"queue_drop\"])\n",
    "    plt.legend(loc='best')\n",
    "    plt.show()\n",
    "\n",
    "def cal_queue_len(df_out_tr, switch):\n",
    "    df_queue = get_src_packets(df_out_tr, switch)\n",
    "    df_queue = sort_by_time(df_queue)\n",
    "    pktCount = 0\n",
    "    queue_len = []\n",
    "    pktDrop = 0\n",
    "    queue_drop = []\n",
    "    for index, row in df_queue.iterrows():\n",
    "        if row[\"events\"] == 'd': \n",
    "            pktDrop +=1\n",
    "            pktCount -= 1\n",
    "        if row[\"events\"] == '-':\n",
    "            pktCount -= 1\n",
    "        if row[\"events\"] == '+':\n",
    "            pktCount += 1\n",
    "        queue_len.append(pktCount)\n",
    "        queue_drop.append(pktDrop)\n",
    "    df_queue[\"queue_len\"] = queue_len\n",
    "    df_queue[\"queue_drop\"] = queue_drop\n",
    "    plot(df_queue)\n",
    "    \n",
    "    #return df_sort\n",
    "def plot_flow_path_queue_length(df, fid):\n",
    "    df_out = df.loc[df[\"pkt_type\"].isin([\"tcp\"])]\n",
    "    df_out = df_out.loc[df_out[\"fid\"].isin([fid])]\n",
    "    print(\"from\", df_out.from_node.unique())\n",
    "    print(\"to\", df_out.to_node.unique())\n",
    "    for switch in df_out.from_node.unique():\n",
    "        cal_queue_len(df, switch)"
   ]
  },
  {
   "cell_type": "code",
   "execution_count": null,
   "metadata": {},
   "outputs": [],
   "source": []
  }
 ],
 "metadata": {
  "kernelspec": {
   "display_name": "Python 3",
   "language": "python",
   "name": "python3"
  },
  "language_info": {
   "codemirror_mode": {
    "name": "ipython",
    "version": 3
   },
   "file_extension": ".py",
   "mimetype": "text/x-python",
   "name": "python",
   "nbconvert_exporter": "python",
   "pygments_lexer": "ipython3",
   "version": "3.5.2"
  }
 },
 "nbformat": 4,
 "nbformat_minor": 2
}
